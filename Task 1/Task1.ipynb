{
 "cells": [
  {
   "cell_type": "code",
   "execution_count": 2,
   "id": "118161db",
   "metadata": {},
   "outputs": [],
   "source": [
    "import numpy as np\n",
    "import pandas as pd"
   ]
  },
  {
   "cell_type": "code",
   "execution_count": 4,
   "id": "ff9a265e",
   "metadata": {},
   "outputs": [],
   "source": [
    "df = pd.read_csv('student_dataset.csv')"
   ]
  },
  {
   "cell_type": "code",
   "execution_count": null,
   "id": "7c2876dd",
   "metadata": {},
   "outputs": [
    {
     "name": "stdout",
     "output_type": "stream",
     "text": [
      "       Student_Names   Phone_No.  Math  Physics  Chemistry Grade  \\\n",
      "0   Donald Contreras  9208625450  76.0     84.0         54    B+   \n",
      "1      Joseph Horton  9886408555  91.0     75.0         78     A   \n",
      "2  Savannah Burns MD  9047592659  64.0     98.0         20     C   \n",
      "3     William Carter  9048473864  15.0     95.0         32     D   \n",
      "4     John Rodriguez  9685225730  86.0     86.0         66    B+   \n",
      "\n",
      "                    Comment  Roll No.           School Name  \\\n",
      "0            Good Pursuance    524613  Martin Luther School   \n",
      "1      Very Good Achivement    561635  Martin Luther School   \n",
      "2  Below Average Achivement    560985  Martin Luther School   \n",
      "3            Poor Pursuance    535126  Martin Luther School   \n",
      "4            Good Pursuance    559410  Martin Luther School   \n",
      "\n",
      "                                     Student Address  \n",
      "0             478 Mooney Park, New Valerie, VI 28836  \n",
      "1            037 Matthew Shores, Greeneton, CA 98399  \n",
      "2         96124 Lloyd Streets, Edwardmouth, DC 61677  \n",
      "3            11959 Clark Village, Ivanview, NH 43940  \n",
      "4  051 Weaver Glen Apt. 724, West Davidborough, M...  \n"
     ]
    }
   ],
   "source": [
    "print(df.head()) # Head Function used to Print top 5 rows in the dataset"
   ]
  },
  {
   "cell_type": "code",
   "execution_count": null,
   "id": "a19b9aef",
   "metadata": {},
   "outputs": [
    {
     "name": "stdout",
     "output_type": "stream",
     "text": [
      "          Student_Names   Phone_No.  Math  Physics  Chemistry Grade  \\\n",
      "0      Donald Contreras  9208625450  76.0     84.0         54    B+   \n",
      "1         Joseph Horton  9886408555  91.0     75.0         78     A   \n",
      "2     Savannah Burns MD  9047592659  64.0     98.0         20     C   \n",
      "3        William Carter  9048473864  15.0     95.0         32     D   \n",
      "4        John Rodriguez  9685225730  86.0     86.0         66    B+   \n",
      "...                 ...         ...   ...      ...        ...   ...   \n",
      "8995   Kimberly Stevens  9129352703  40.0     87.0         65     B   \n",
      "8996     Kelsey Bonilla  9649715711  56.0     84.0         75    B+   \n",
      "8997         Kelly Dunn  9825362271  80.0     70.0         16     C   \n",
      "8998     Joseph Nichols  9363540473  24.0     95.0         59     C   \n",
      "8999    Susan Armstrong  9879539785  31.0     76.0         18     D   \n",
      "\n",
      "                       Comment  Roll No.           School Name  \\\n",
      "0               Good Pursuance    524613  Martin Luther School   \n",
      "1         Very Good Achivement    561635  Martin Luther School   \n",
      "2     Below Average Achivement    560985  Martin Luther School   \n",
      "3               Poor Pursuance    535126  Martin Luther School   \n",
      "4               Good Pursuance    559410  Martin Luther School   \n",
      "...                        ...       ...                   ...   \n",
      "8995       Average Performance    569342  Martin Luther School   \n",
      "8996            Good Pursuance    530124  Martin Luther School   \n",
      "8997  Below Average Achivement    592266  Martin Luther School   \n",
      "8998  Below Average Achivement    583028  Martin Luther School   \n",
      "8999            Poor Pursuance    503637  Martin Luther School   \n",
      "\n",
      "                                        Student Address  \n",
      "0                478 Mooney Park, New Valerie, VI 28836  \n",
      "1               037 Matthew Shores, Greeneton, CA 98399  \n",
      "2            96124 Lloyd Streets, Edwardmouth, DC 61677  \n",
      "3               11959 Clark Village, Ivanview, NH 43940  \n",
      "4     051 Weaver Glen Apt. 724, West Davidborough, M...  \n",
      "...                                                 ...  \n",
      "8995          27054 Adrian Streets, Diazmouth, OH 81346  \n",
      "8996        570 Christopher Run, Williammouth, ND 11535  \n",
      "8997   32283 Carpenter Summit, North Patricia, PR 51483  \n",
      "8998  2336 Blackburn Fall Apt. 905, South Shelby, ND...  \n",
      "8999      2328 Jennifer Extension, Lake David, OR 11243  \n",
      "\n",
      "[9000 rows x 10 columns]\n"
     ]
    }
   ],
   "source": [
    "print(df) # Direct if we print df it will print all rows and columns"
   ]
  },
  {
   "cell_type": "code",
   "execution_count": null,
   "id": "d130e453",
   "metadata": {},
   "outputs": [
    {
     "name": "stdout",
     "output_type": "stream",
     "text": [
      "      Student_Names  Phone_No.   Math  Physics  Chemistry  Grade  Comment  \\\n",
      "0             False      False  False    False      False  False    False   \n",
      "1             False      False  False    False      False  False    False   \n",
      "2             False      False  False    False      False  False    False   \n",
      "3             False      False  False    False      False  False    False   \n",
      "4             False      False  False    False      False  False    False   \n",
      "...             ...        ...    ...      ...        ...    ...      ...   \n",
      "8995          False      False  False    False      False  False    False   \n",
      "8996          False      False  False    False      False  False    False   \n",
      "8997          False      False  False    False      False  False    False   \n",
      "8998          False      False  False    False      False  False    False   \n",
      "8999          False      False  False    False      False  False    False   \n",
      "\n",
      "      Roll No.  School Name  Student Address  \n",
      "0        False        False            False  \n",
      "1        False        False            False  \n",
      "2        False        False            False  \n",
      "3        False        False            False  \n",
      "4        False        False            False  \n",
      "...        ...          ...              ...  \n",
      "8995     False        False            False  \n",
      "8996     False        False            False  \n",
      "8997     False        False            False  \n",
      "8998     False        False            False  \n",
      "8999     False        False            False  \n",
      "\n",
      "[9000 rows x 10 columns]\n"
     ]
    }
   ],
   "source": [
    "print(df.isnull()) #It displays each and every entity weather the value is null or not"
   ]
  },
  {
   "cell_type": "code",
   "execution_count": null,
   "id": "6f445067",
   "metadata": {},
   "outputs": [
    {
     "name": "stdout",
     "output_type": "stream",
     "text": [
      "Student_Names      0\n",
      "Phone_No.          0\n",
      "Math               3\n",
      "Physics            3\n",
      "Chemistry          0\n",
      "Grade              0\n",
      "Comment            0\n",
      "Roll No.           0\n",
      "School Name        0\n",
      "Student Address    0\n",
      "dtype: int64\n"
     ]
    }
   ],
   "source": [
    "print(df.isnull().sum()) # It displays number of null values for each and every object"
   ]
  },
  {
   "cell_type": "code",
   "execution_count": null,
   "id": "b9bebe1c",
   "metadata": {},
   "outputs": [],
   "source": [
    "df['Math'] = df['Math'].fillna(df['Math'].mean()) # It will fill all null values in maths object by mean of maths socre in student data set"
   ]
  },
  {
   "cell_type": "code",
   "execution_count": 10,
   "id": "fcdbc694",
   "metadata": {},
   "outputs": [],
   "source": [
    "df['Physics'] = df['Physics'].fillna(df['Physics'].mean())"
   ]
  },
  {
   "cell_type": "code",
   "execution_count": null,
   "id": "ea8e54f3",
   "metadata": {},
   "outputs": [
    {
     "name": "stdout",
     "output_type": "stream",
     "text": [
      "Student_Names      0\n",
      "Phone_No.          0\n",
      "Math               0\n",
      "Physics            0\n",
      "Chemistry          0\n",
      "Grade              0\n",
      "Comment            0\n",
      "Roll No.           0\n",
      "School Name        0\n",
      "Student Address    0\n",
      "dtype: int64\n"
     ]
    }
   ],
   "source": [
    "print(df.isnull().sum()) # See now there is no null values"
   ]
  },
  {
   "cell_type": "code",
   "execution_count": 13,
   "id": "361b3a47",
   "metadata": {},
   "outputs": [],
   "source": [
    "## create a new coloumn in dataset called total_marks and it must have sum of marks of each student\n",
    "df['Total_Marks'] = df['Math']+df['Physics']+df['Chemistry']"
   ]
  },
  {
   "cell_type": "code",
   "execution_count": 14,
   "id": "c376fc90",
   "metadata": {},
   "outputs": [
    {
     "name": "stdout",
     "output_type": "stream",
     "text": [
      "0       214.0\n",
      "1       244.0\n",
      "2       182.0\n",
      "3       142.0\n",
      "4       238.0\n",
      "        ...  \n",
      "8995    192.0\n",
      "8996    215.0\n",
      "8997    166.0\n",
      "8998    178.0\n",
      "8999    125.0\n",
      "Name: Total_Marks, Length: 9000, dtype: float64\n"
     ]
    }
   ],
   "source": [
    "## Print Total Marks column\n",
    "print(df['Total_Marks'])"
   ]
  },
  {
   "cell_type": "code",
   "execution_count": 15,
   "id": "e290b744",
   "metadata": {},
   "outputs": [
    {
     "name": "stdout",
     "output_type": "stream",
     "text": [
      "          Student_Names   Phone_No.  Math  Physics  Chemistry Grade  \\\n",
      "0      Donald Contreras  9208625450  76.0     84.0         54    B+   \n",
      "1         Joseph Horton  9886408555  91.0     75.0         78     A   \n",
      "2     Savannah Burns MD  9047592659  64.0     98.0         20     C   \n",
      "3        William Carter  9048473864  15.0     95.0         32     D   \n",
      "4        John Rodriguez  9685225730  86.0     86.0         66    B+   \n",
      "...                 ...         ...   ...      ...        ...   ...   \n",
      "8995   Kimberly Stevens  9129352703  40.0     87.0         65     B   \n",
      "8996     Kelsey Bonilla  9649715711  56.0     84.0         75    B+   \n",
      "8997         Kelly Dunn  9825362271  80.0     70.0         16     C   \n",
      "8998     Joseph Nichols  9363540473  24.0     95.0         59     C   \n",
      "8999    Susan Armstrong  9879539785  31.0     76.0         18     D   \n",
      "\n",
      "                       Comment  Roll No.           School Name  \\\n",
      "0               Good Pursuance    524613  Martin Luther School   \n",
      "1         Very Good Achivement    561635  Martin Luther School   \n",
      "2     Below Average Achivement    560985  Martin Luther School   \n",
      "3               Poor Pursuance    535126  Martin Luther School   \n",
      "4               Good Pursuance    559410  Martin Luther School   \n",
      "...                        ...       ...                   ...   \n",
      "8995       Average Performance    569342  Martin Luther School   \n",
      "8996            Good Pursuance    530124  Martin Luther School   \n",
      "8997  Below Average Achivement    592266  Martin Luther School   \n",
      "8998  Below Average Achivement    583028  Martin Luther School   \n",
      "8999            Poor Pursuance    503637  Martin Luther School   \n",
      "\n",
      "                                        Student Address  Total_Marks  \n",
      "0                478 Mooney Park, New Valerie, VI 28836        214.0  \n",
      "1               037 Matthew Shores, Greeneton, CA 98399        244.0  \n",
      "2            96124 Lloyd Streets, Edwardmouth, DC 61677        182.0  \n",
      "3               11959 Clark Village, Ivanview, NH 43940        142.0  \n",
      "4     051 Weaver Glen Apt. 724, West Davidborough, M...        238.0  \n",
      "...                                                 ...          ...  \n",
      "8995          27054 Adrian Streets, Diazmouth, OH 81346        192.0  \n",
      "8996        570 Christopher Run, Williammouth, ND 11535        215.0  \n",
      "8997   32283 Carpenter Summit, North Patricia, PR 51483        166.0  \n",
      "8998  2336 Blackburn Fall Apt. 905, South Shelby, ND...        178.0  \n",
      "8999      2328 Jennifer Extension, Lake David, OR 11243        125.0  \n",
      "\n",
      "[9000 rows x 11 columns]\n"
     ]
    }
   ],
   "source": [
    "## Final Prepare Data Set\n",
    "print(df)"
   ]
  }
 ],
 "metadata": {
  "kernelspec": {
   "display_name": "Python 3",
   "language": "python",
   "name": "python3"
  },
  "language_info": {
   "codemirror_mode": {
    "name": "ipython",
    "version": 3
   },
   "file_extension": ".py",
   "mimetype": "text/x-python",
   "name": "python",
   "nbconvert_exporter": "python",
   "pygments_lexer": "ipython3",
   "version": "3.13.5"
  }
 },
 "nbformat": 4,
 "nbformat_minor": 5
}
